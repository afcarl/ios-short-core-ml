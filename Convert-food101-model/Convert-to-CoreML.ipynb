{
 "cells": [
  {
   "cell_type": "markdown",
   "metadata": {},
   "source": [
    "## Import dependencies"
   ]
  },
  {
   "cell_type": "code",
   "execution_count": 1,
   "metadata": {},
   "outputs": [
    {
     "name": "stderr",
     "output_type": "stream",
     "text": [
      "Using TensorFlow backend.\n"
     ]
    }
   ],
   "source": [
    "from keras.models import load_model\n",
    "import coremltools"
   ]
  },
  {
   "cell_type": "markdown",
   "metadata": {},
   "source": [
    "## Load Keras model"
   ]
  },
  {
   "cell_type": "code",
   "execution_count": 2,
   "metadata": {
    "collapsed": true
   },
   "outputs": [],
   "source": [
    "model = load_model('food101-model.hdf5')"
   ]
  },
  {
   "cell_type": "markdown",
   "metadata": {
    "collapsed": true
   },
   "source": [
    "## Convert Keras model to Core ML model"
   ]
  },
  {
   "cell_type": "code",
   "execution_count": 3,
   "metadata": {},
   "outputs": [
    {
     "name": "stdout",
     "output_type": "stream",
     "text": [
      "0 : input_1, <keras.engine.topology.InputLayer object at 0x11520a910>\n",
      "1 : convolution2d_1, <keras.layers.convolutional.Convolution2D object at 0x110c91890>\n",
      "2 : convolution2d_1__activation__, <keras.layers.core.Activation object at 0x132eb7510>\n",
      "3 : batchnormalization_1, <keras.layers.normalization.BatchNormalization object at 0x11520ab90>\n",
      "4 : convolution2d_2, <keras.layers.convolutional.Convolution2D object at 0x1152b1b90>\n",
      "5 : convolution2d_2__activation__, <keras.layers.core.Activation object at 0x132f90210>\n",
      "6 : batchnormalization_2, <keras.layers.normalization.BatchNormalization object at 0x1152fc3d0>\n",
      "7 : convolution2d_3, <keras.layers.convolutional.Convolution2D object at 0x1153597d0>\n",
      "8 : convolution2d_3__activation__, <keras.layers.core.Activation object at 0x132f90250>\n",
      "9 : batchnormalization_3, <keras.layers.normalization.BatchNormalization object at 0x115393e90>\n",
      "10 : maxpooling2d_1, <keras.layers.pooling.MaxPooling2D object at 0x1153f1fd0>\n",
      "11 : convolution2d_4, <keras.layers.convolutional.Convolution2D object at 0x115423350>\n",
      "12 : convolution2d_4__activation__, <keras.layers.core.Activation object at 0x132f902d0>\n",
      "13 : batchnormalization_4, <keras.layers.normalization.BatchNormalization object at 0x115469590>\n",
      "14 : convolution2d_5, <keras.layers.convolutional.Convolution2D object at 0x115493e90>\n",
      "15 : convolution2d_5__activation__, <keras.layers.core.Activation object at 0x132f90350>\n",
      "16 : batchnormalization_5, <keras.layers.normalization.BatchNormalization object at 0x1154cddd0>\n",
      "17 : maxpooling2d_2, <keras.layers.pooling.MaxPooling2D object at 0x115526f50>\n",
      "18 : convolution2d_9, <keras.layers.convolutional.Convolution2D object at 0x11555b310>\n",
      "19 : convolution2d_9__activation__, <keras.layers.core.Activation object at 0x132f903d0>\n",
      "20 : batchnormalization_9, <keras.layers.normalization.BatchNormalization object at 0x1155a0550>\n",
      "21 : convolution2d_7, <keras.layers.convolutional.Convolution2D object at 0x1155c9fd0>\n",
      "22 : convolution2d_7__activation__, <keras.layers.core.Activation object at 0x132f90450>\n",
      "23 : convolution2d_10, <keras.layers.convolutional.Convolution2D object at 0x115603d90>\n",
      "24 : convolution2d_10__activation__, <keras.layers.core.Activation object at 0x132f904d0>\n",
      "25 : batchnormalization_7, <keras.layers.normalization.BatchNormalization object at 0x11565dbd0>\n",
      "26 : batchnormalization_10, <keras.layers.normalization.BatchNormalization object at 0x115682d10>\n",
      "27 : averagepooling2d_1, <keras.layers.pooling.AveragePooling2D object at 0x1156d0ed0>\n",
      "28 : convolution2d_6, <keras.layers.convolutional.Convolution2D object at 0x11573ea90>\n",
      "29 : convolution2d_6__activation__, <keras.layers.core.Activation object at 0x132f90550>\n",
      "30 : convolution2d_8, <keras.layers.convolutional.Convolution2D object at 0x11576c810>\n",
      "31 : convolution2d_8__activation__, <keras.layers.core.Activation object at 0x11520a690>\n",
      "32 : convolution2d_11, <keras.layers.convolutional.Convolution2D object at 0x115797b10>\n",
      "33 : convolution2d_11__activation__, <keras.layers.core.Activation object at 0x11520a510>\n",
      "34 : convolution2d_12, <keras.layers.convolutional.Convolution2D object at 0x1157bd950>\n",
      "35 : convolution2d_12__activation__, <keras.layers.core.Activation object at 0x11520a5d0>\n",
      "36 : batchnormalization_6, <keras.layers.normalization.BatchNormalization object at 0x1157e0790>\n",
      "37 : batchnormalization_8, <keras.layers.normalization.BatchNormalization object at 0x115805610>\n",
      "38 : batchnormalization_11, <keras.layers.normalization.BatchNormalization object at 0x11582af50>\n",
      "39 : batchnormalization_12, <keras.layers.normalization.BatchNormalization object at 0x11b9c6390>\n",
      "40 : mixed0, <keras.engine.topology.Merge object at 0x11ba32fd0>\n",
      "41 : convolution2d_16, <keras.layers.convolutional.Convolution2D object at 0x11bab3410>\n",
      "42 : convolution2d_16__activation__, <keras.layers.core.Activation object at 0x11520a710>\n",
      "43 : batchnormalization_16, <keras.layers.normalization.BatchNormalization object at 0x11baf74d0>\n",
      "44 : convolution2d_14, <keras.layers.convolutional.Convolution2D object at 0x11bb238d0>\n",
      "45 : convolution2d_14__activation__, <keras.layers.core.Activation object at 0x11520a610>\n",
      "46 : convolution2d_17, <keras.layers.convolutional.Convolution2D object at 0x11bb5d250>\n",
      "47 : convolution2d_17__activation__, <keras.layers.core.Activation object at 0x11520a410>\n",
      "48 : batchnormalization_14, <keras.layers.normalization.BatchNormalization object at 0x11bbb7f50>\n",
      "49 : batchnormalization_17, <keras.layers.normalization.BatchNormalization object at 0x11bbdc490>\n",
      "50 : averagepooling2d_2, <keras.layers.pooling.AveragePooling2D object at 0x11bc2a610>\n",
      "51 : convolution2d_13, <keras.layers.convolutional.Convolution2D object at 0x11bcc5dd0>\n",
      "52 : convolution2d_13__activation__, <keras.layers.core.Activation object at 0x11520a7d0>\n",
      "53 : convolution2d_15, <keras.layers.convolutional.Convolution2D object at 0x11bcf0ed0>\n",
      "54 : convolution2d_15__activation__, <keras.layers.core.Activation object at 0x132209e90>\n",
      "55 : convolution2d_18, <keras.layers.convolutional.Convolution2D object at 0x11bd20f10>\n",
      "56 : convolution2d_18__activation__, <keras.layers.core.Activation object at 0x132209a10>\n",
      "57 : convolution2d_19, <keras.layers.convolutional.Convolution2D object at 0x11bd40cd0>\n",
      "58 : convolution2d_19__activation__, <keras.layers.core.Activation object at 0x1445b5dd0>\n",
      "59 : batchnormalization_13, <keras.layers.normalization.BatchNormalization object at 0x11bd64b50>\n",
      "60 : batchnormalization_15, <keras.layers.normalization.BatchNormalization object at 0x11bdedc90>\n",
      "61 : batchnormalization_18, <keras.layers.normalization.BatchNormalization object at 0x11be3afd0>\n",
      "62 : batchnormalization_19, <keras.layers.normalization.BatchNormalization object at 0x11be8fb50>\n",
      "63 : mixed1, <keras.engine.topology.Merge object at 0x11bf2bed0>\n",
      "64 : convolution2d_23, <keras.layers.convolutional.Convolution2D object at 0x11bf81c10>\n",
      "65 : convolution2d_23__activation__, <keras.layers.core.Activation object at 0x1462a50d0>\n",
      "66 : batchnormalization_23, <keras.layers.normalization.BatchNormalization object at 0x11bfc4890>\n",
      "67 : convolution2d_21, <keras.layers.convolutional.Convolution2D object at 0x11bff1f90>\n",
      "68 : convolution2d_21__activation__, <keras.layers.core.Activation object at 0x1462a51d0>\n",
      "69 : convolution2d_24, <keras.layers.convolutional.Convolution2D object at 0x11c025310>\n",
      "70 : convolution2d_24__activation__, <keras.layers.core.Activation object at 0x1462a5250>\n",
      "71 : batchnormalization_21, <keras.layers.normalization.BatchNormalization object at 0x11c097350>\n",
      "72 : batchnormalization_24, <keras.layers.normalization.BatchNormalization object at 0x11c0bbbd0>\n",
      "73 : averagepooling2d_3, <keras.layers.pooling.AveragePooling2D object at 0x11c0dca90>\n",
      "74 : convolution2d_20, <keras.layers.convolutional.Convolution2D object at 0x11c163050>\n",
      "75 : convolution2d_20__activation__, <keras.layers.core.Activation object at 0x1462a52d0>\n",
      "76 : convolution2d_22, <keras.layers.convolutional.Convolution2D object at 0x11c18ee90>\n",
      "77 : convolution2d_22__activation__, <keras.layers.core.Activation object at 0x1462a5350>\n",
      "78 : convolution2d_25, <keras.layers.convolutional.Convolution2D object at 0x11c1cd310>\n",
      "79 : convolution2d_25__activation__, <keras.layers.core.Activation object at 0x1462a53d0>\n",
      "80 : convolution2d_26, <keras.layers.convolutional.Convolution2D object at 0x11c1f3150>\n",
      "81 : convolution2d_26__activation__, <keras.layers.core.Activation object at 0x1462a5450>\n",
      "82 : batchnormalization_20, <keras.layers.normalization.BatchNormalization object at 0x11c203f50>\n",
      "83 : batchnormalization_22, <keras.layers.normalization.BatchNormalization object at 0x11c228490>\n",
      "84 : batchnormalization_25, <keras.layers.normalization.BatchNormalization object at 0x11c279610>\n",
      "85 : batchnormalization_26, <keras.layers.normalization.BatchNormalization object at 0x11c2cdf10>\n",
      "86 : mixed2, <keras.engine.topology.Merge object at 0x11c350350>\n",
      "87 : convolution2d_28, <keras.layers.convolutional.Convolution2D object at 0x11c3bcfd0>\n",
      "88 : convolution2d_28__activation__, <keras.layers.core.Activation object at 0x1462a54d0>\n",
      "89 : batchnormalization_28, <keras.layers.normalization.BatchNormalization object at 0x11c3fff90>\n",
      "90 : convolution2d_29, <keras.layers.convolutional.Convolution2D object at 0x11c430c50>\n",
      "91 : convolution2d_29__activation__, <keras.layers.core.Activation object at 0x1462a5550>\n",
      "92 : batchnormalization_29, <keras.layers.normalization.BatchNormalization object at 0x11c47d850>\n",
      "93 : convolution2d_27, <keras.layers.convolutional.Convolution2D object at 0x11c4d4fd0>\n"
     ]
    },
    {
     "name": "stdout",
     "output_type": "stream",
     "text": [
      "94 : convolution2d_27__activation__, <keras.layers.core.Activation object at 0x1462a55d0>\n",
      "95 : convolution2d_30, <keras.layers.convolutional.Convolution2D object at 0x11c50ced0>\n",
      "96 : convolution2d_30__activation__, <keras.layers.core.Activation object at 0x1462a5650>\n",
      "97 : batchnormalization_27, <keras.layers.normalization.BatchNormalization object at 0x11c566d10>\n",
      "98 : batchnormalization_30, <keras.layers.normalization.BatchNormalization object at 0x11c588e90>\n",
      "99 : maxpooling2d_3, <keras.layers.pooling.MaxPooling2D object at 0x11c5daed0>\n",
      "100 : mixed3, <keras.engine.topology.Merge object at 0x11c647c10>\n",
      "101 : convolution2d_35, <keras.layers.convolutional.Convolution2D object at 0x11c6739d0>\n",
      "102 : convolution2d_35__activation__, <keras.layers.core.Activation object at 0x1462a56d0>\n",
      "103 : batchnormalization_35, <keras.layers.normalization.BatchNormalization object at 0x11c687d50>\n",
      "104 : convolution2d_36, <keras.layers.convolutional.Convolution2D object at 0x11c69dc50>\n",
      "105 : convolution2d_36__activation__, <keras.layers.core.Activation object at 0x1462a5750>\n",
      "106 : batchnormalization_36, <keras.layers.normalization.BatchNormalization object at 0x11c6ec850>\n",
      "107 : convolution2d_32, <keras.layers.convolutional.Convolution2D object at 0x11c744fd0>\n",
      "108 : convolution2d_32__activation__, <keras.layers.core.Activation object at 0x1462a57d0>\n",
      "109 : convolution2d_37, <keras.layers.convolutional.Convolution2D object at 0x11c77fed0>\n",
      "110 : convolution2d_37__activation__, <keras.layers.core.Activation object at 0x1462a5850>\n",
      "111 : batchnormalization_32, <keras.layers.normalization.BatchNormalization object at 0x11c7dad10>\n",
      "112 : batchnormalization_37, <keras.layers.normalization.BatchNormalization object at 0x11c7fbe90>\n",
      "113 : convolution2d_33, <keras.layers.convolutional.Convolution2D object at 0x11c84bed0>\n",
      "114 : convolution2d_33__activation__, <keras.layers.core.Activation object at 0x1462a58d0>\n",
      "115 : convolution2d_38, <keras.layers.convolutional.Convolution2D object at 0x11c8b7c10>\n",
      "116 : convolution2d_38__activation__, <keras.layers.core.Activation object at 0x1462a5950>\n",
      "117 : batchnormalization_33, <keras.layers.normalization.BatchNormalization object at 0x11c913a90>\n",
      "118 : batchnormalization_38, <keras.layers.normalization.BatchNormalization object at 0x11c939910>\n",
      "119 : averagepooling2d_4, <keras.layers.pooling.AveragePooling2D object at 0x11c986fd0>\n",
      "120 : convolution2d_31, <keras.layers.convolutional.Convolution2D object at 0x11c9f3950>\n",
      "121 : convolution2d_31__activation__, <keras.layers.core.Activation object at 0x1462a59d0>\n",
      "122 : convolution2d_34, <keras.layers.convolutional.Convolution2D object at 0x11ca21a50>\n",
      "123 : convolution2d_34__activation__, <keras.layers.core.Activation object at 0x1462a5a50>\n",
      "124 : convolution2d_39, <keras.layers.convolutional.Convolution2D object at 0x11ca4ba50>\n",
      "125 : convolution2d_39__activation__, <keras.layers.core.Activation object at 0x1462a5ad0>\n",
      "126 : convolution2d_40, <keras.layers.convolutional.Convolution2D object at 0x11ca70890>\n",
      "127 : convolution2d_40__activation__, <keras.layers.core.Activation object at 0x1462a5b50>\n",
      "128 : batchnormalization_31, <keras.layers.normalization.BatchNormalization object at 0x11ca93a50>\n",
      "129 : batchnormalization_34, <keras.layers.normalization.BatchNormalization object at 0x11cab8550>\n",
      "130 : batchnormalization_39, <keras.layers.normalization.BatchNormalization object at 0x11cadee50>\n",
      "131 : batchnormalization_40, <keras.layers.normalization.BatchNormalization object at 0x11cb76610>\n",
      "132 : mixed4, <keras.engine.topology.Merge object at 0x11cbcaf10>\n",
      "133 : convolution2d_45, <keras.layers.convolutional.Convolution2D object at 0x11cc4b350>\n",
      "134 : convolution2d_45__activation__, <keras.layers.core.Activation object at 0x1462a5bd0>\n",
      "135 : batchnormalization_45, <keras.layers.normalization.BatchNormalization object at 0x11cc91410>\n",
      "136 : convolution2d_46, <keras.layers.convolutional.Convolution2D object at 0x11ccbb810>\n",
      "137 : convolution2d_46__activation__, <keras.layers.core.Activation object at 0x1462a5c50>\n",
      "138 : batchnormalization_46, <keras.layers.normalization.BatchNormalization object at 0x11cce3f50>\n",
      "139 : convolution2d_42, <keras.layers.convolutional.Convolution2D object at 0x11cd501d0>\n",
      "140 : convolution2d_42__activation__, <keras.layers.core.Activation object at 0x1462a5cd0>\n",
      "141 : convolution2d_47, <keras.layers.convolutional.Convolution2D object at 0x11cd86510>\n",
      "142 : convolution2d_47__activation__, <keras.layers.core.Activation object at 0x1462a5d50>\n",
      "143 : batchnormalization_42, <keras.layers.normalization.BatchNormalization object at 0x11cdf6550>\n",
      "144 : batchnormalization_47, <keras.layers.normalization.BatchNormalization object at 0x11ce1add0>\n",
      "145 : convolution2d_43, <keras.layers.convolutional.Convolution2D object at 0x11ce3fc90>\n",
      "146 : convolution2d_43__activation__, <keras.layers.core.Activation object at 0x1462a5dd0>\n",
      "147 : convolution2d_48, <keras.layers.convolutional.Convolution2D object at 0x11cebf250>\n",
      "148 : convolution2d_48__activation__, <keras.layers.core.Activation object at 0x1462a5e50>\n",
      "149 : batchnormalization_43, <keras.layers.normalization.BatchNormalization object at 0x11cf2f290>\n",
      "150 : batchnormalization_48, <keras.layers.normalization.BatchNormalization object at 0x11cf53b10>\n",
      "151 : averagepooling2d_5, <keras.layers.pooling.AveragePooling2D object at 0x11cf759d0>\n",
      "152 : convolution2d_41, <keras.layers.convolutional.Convolution2D object at 0x11cffb290>\n",
      "153 : convolution2d_41__activation__, <keras.layers.core.Activation object at 0x1462a5ed0>\n",
      "154 : convolution2d_44, <keras.layers.convolutional.Convolution2D object at 0x11d027590>\n",
      "155 : convolution2d_44__activation__, <keras.layers.core.Activation object at 0x1462a5f50>\n",
      "156 : convolution2d_49, <keras.layers.convolutional.Convolution2D object at 0x11d066250>\n",
      "157 : convolution2d_49__activation__, <keras.layers.core.Activation object at 0x1462a5fd0>\n",
      "158 : convolution2d_50, <keras.layers.convolutional.Convolution2D object at 0x11d08e950>\n",
      "159 : convolution2d_50__activation__, <keras.layers.core.Activation object at 0x146293f50>\n",
      "160 : batchnormalization_41, <keras.layers.normalization.BatchNormalization object at 0x11d09ee90>\n",
      "161 : batchnormalization_44, <keras.layers.normalization.BatchNormalization object at 0x11d0bff90>\n",
      "162 : batchnormalization_49, <keras.layers.normalization.BatchNormalization object at 0x11d111f50>\n",
      "163 : batchnormalization_50, <keras.layers.normalization.BatchNormalization object at 0x11d165e50>\n",
      "164 : mixed5, <keras.engine.topology.Merge object at 0x11d200610>\n",
      "165 : convolution2d_55, <keras.layers.convolutional.Convolution2D object at 0x11d254f10>\n",
      "166 : convolution2d_55__activation__, <keras.layers.core.Activation object at 0x146293cd0>\n",
      "167 : batchnormalization_55, <keras.layers.normalization.BatchNormalization object at 0x11d297f50>\n",
      "168 : convolution2d_56, <keras.layers.convolutional.Convolution2D object at 0x11d2c7b90>\n",
      "169 : convolution2d_56__activation__, <keras.layers.core.Activation object at 0x1462938d0>\n",
      "170 : batchnormalization_56, <keras.layers.normalization.BatchNormalization object at 0x11d2fc610>\n",
      "171 : convolution2d_52, <keras.layers.convolutional.Convolution2D object at 0x11d36cf10>\n",
      "172 : convolution2d_52__activation__, <keras.layers.core.Activation object at 0x11521d090>\n",
      "173 : convolution2d_57, <keras.layers.convolutional.Convolution2D object at 0x11d3a7910>\n",
      "174 : convolution2d_57__activation__, <keras.layers.core.Activation object at 0x11521d110>\n",
      "175 : batchnormalization_52, <keras.layers.normalization.BatchNormalization object at 0x11d401c90>\n",
      "176 : batchnormalization_57, <keras.layers.normalization.BatchNormalization object at 0x11d422dd0>\n",
      "177 : convolution2d_53, <keras.layers.convolutional.Convolution2D object at 0x11d45b190>\n",
      "178 : convolution2d_53__activation__, <keras.layers.core.Activation object at 0x11521d190>\n",
      "179 : convolution2d_58, <keras.layers.convolutional.Convolution2D object at 0x11d4dfbd0>\n",
      "180 : convolution2d_58__activation__, <keras.layers.core.Activation object at 0x11521d210>\n",
      "181 : batchnormalization_53, <keras.layers.normalization.BatchNormalization object at 0x11d5389d0>\n",
      "182 : batchnormalization_58, <keras.layers.normalization.BatchNormalization object at 0x11d55d850>\n",
      "183 : averagepooling2d_6, <keras.layers.pooling.AveragePooling2D object at 0x11d583e90>\n",
      "184 : convolution2d_51, <keras.layers.convolutional.Convolution2D object at 0x11d619910>\n"
     ]
    },
    {
     "name": "stdout",
     "output_type": "stream",
     "text": [
      "185 : convolution2d_51__activation__, <keras.layers.core.Activation object at 0x11521d290>\n",
      "186 : convolution2d_54, <keras.layers.convolutional.Convolution2D object at 0x11d645990>\n",
      "187 : convolution2d_54__activation__, <keras.layers.core.Activation object at 0x11521d310>\n",
      "188 : convolution2d_59, <keras.layers.convolutional.Convolution2D object at 0x11d670990>\n",
      "189 : convolution2d_59__activation__, <keras.layers.core.Activation object at 0x11521d390>\n",
      "190 : convolution2d_60, <keras.layers.convolutional.Convolution2D object at 0x11d7567d0>\n",
      "191 : convolution2d_60__activation__, <keras.layers.core.Activation object at 0x11521d410>\n",
      "192 : batchnormalization_51, <keras.layers.normalization.BatchNormalization object at 0x11d77a990>\n",
      "193 : batchnormalization_54, <keras.layers.normalization.BatchNormalization object at 0x11d79d490>\n",
      "194 : batchnormalization_59, <keras.layers.normalization.BatchNormalization object at 0x11d7c4d90>\n",
      "195 : batchnormalization_60, <keras.layers.normalization.BatchNormalization object at 0x11d843350>\n",
      "196 : mixed6, <keras.engine.topology.Merge object at 0x11d8b3e50>\n",
      "197 : convolution2d_65, <keras.layers.convolutional.Convolution2D object at 0x11d933410>\n",
      "198 : convolution2d_65__activation__, <keras.layers.core.Activation object at 0x11521d490>\n",
      "199 : batchnormalization_65, <keras.layers.normalization.BatchNormalization object at 0x11d94c590>\n",
      "200 : convolution2d_66, <keras.layers.convolutional.Convolution2D object at 0x11d9a1750>\n",
      "201 : convolution2d_66__activation__, <keras.layers.core.Activation object at 0x11521d510>\n",
      "202 : batchnormalization_66, <keras.layers.normalization.BatchNormalization object at 0x11d9da790>\n",
      "203 : convolution2d_62, <keras.layers.convolutional.Convolution2D object at 0x11da38fd0>\n",
      "204 : convolution2d_62__activation__, <keras.layers.core.Activation object at 0x11521d590>\n",
      "205 : convolution2d_67, <keras.layers.convolutional.Convolution2D object at 0x11da6d710>\n",
      "206 : convolution2d_67__activation__, <keras.layers.core.Activation object at 0x11521d610>\n",
      "207 : batchnormalization_62, <keras.layers.normalization.BatchNormalization object at 0x11dc5b490>\n",
      "208 : batchnormalization_67, <keras.layers.normalization.BatchNormalization object at 0x11dc7fd10>\n",
      "209 : convolution2d_63, <keras.layers.convolutional.Convolution2D object at 0x11dca2bd0>\n",
      "210 : convolution2d_63__activation__, <keras.layers.core.Activation object at 0x11521d690>\n",
      "211 : convolution2d_68, <keras.layers.convolutional.Convolution2D object at 0x11dd28450>\n",
      "212 : convolution2d_68__activation__, <keras.layers.core.Activation object at 0x11521d710>\n",
      "213 : batchnormalization_63, <keras.layers.normalization.BatchNormalization object at 0x11dd941d0>\n",
      "214 : batchnormalization_68, <keras.layers.normalization.BatchNormalization object at 0x11dda3bd0>\n",
      "215 : averagepooling2d_7, <keras.layers.pooling.AveragePooling2D object at 0x11ddde910>\n",
      "216 : convolution2d_61, <keras.layers.convolutional.Convolution2D object at 0x11de5df90>\n",
      "217 : convolution2d_61__activation__, <keras.layers.core.Activation object at 0x11521d790>\n",
      "218 : convolution2d_64, <keras.layers.convolutional.Convolution2D object at 0x11de9bd50>\n",
      "219 : convolution2d_64__activation__, <keras.layers.core.Activation object at 0x11521d810>\n",
      "220 : convolution2d_69, <keras.layers.convolutional.Convolution2D object at 0x11dedd190>\n",
      "221 : convolution2d_69__activation__, <keras.layers.core.Activation object at 0x11521d890>\n",
      "222 : convolution2d_70, <keras.layers.convolutional.Convolution2D object at 0x11deecf90>\n",
      "223 : convolution2d_70__activation__, <keras.layers.core.Activation object at 0x11521d910>\n",
      "224 : batchnormalization_61, <keras.layers.normalization.BatchNormalization object at 0x11df13d50>\n",
      "225 : batchnormalization_64, <keras.layers.normalization.BatchNormalization object at 0x11df35ed0>\n",
      "226 : batchnormalization_69, <keras.layers.normalization.BatchNormalization object at 0x11df6f290>\n",
      "227 : batchnormalization_70, <keras.layers.normalization.BatchNormalization object at 0x11dfddd90>\n",
      "228 : mixed7, <keras.engine.topology.Merge object at 0x11e05e350>\n",
      "229 : convolution2d_73, <keras.layers.convolutional.Convolution2D object at 0x11e0cbe50>\n",
      "230 : convolution2d_73__activation__, <keras.layers.core.Activation object at 0x11521d990>\n",
      "231 : batchnormalization_73, <keras.layers.normalization.BatchNormalization object at 0x11e0f9690>\n",
      "232 : convolution2d_74, <keras.layers.convolutional.Convolution2D object at 0x11e13dad0>\n",
      "233 : convolution2d_74__activation__, <keras.layers.core.Activation object at 0x11521da10>\n",
      "234 : batchnormalization_74, <keras.layers.normalization.BatchNormalization object at 0x11e175550>\n",
      "235 : convolution2d_71, <keras.layers.convolutional.Convolution2D object at 0x11e1dffd0>\n",
      "236 : convolution2d_71__activation__, <keras.layers.core.Activation object at 0x11521da90>\n",
      "237 : convolution2d_75, <keras.layers.convolutional.Convolution2D object at 0x11e21cdd0>\n",
      "238 : convolution2d_75__activation__, <keras.layers.core.Activation object at 0x11521db10>\n",
      "239 : batchnormalization_71, <keras.layers.normalization.BatchNormalization object at 0x11e276bd0>\n",
      "240 : batchnormalization_75, <keras.layers.normalization.BatchNormalization object at 0x11e29ad10>\n",
      "241 : convolution2d_72, <keras.layers.convolutional.Convolution2D object at 0x11e2d30d0>\n",
      "242 : convolution2d_72__activation__, <keras.layers.core.Activation object at 0x11521db90>\n",
      "243 : convolution2d_76, <keras.layers.convolutional.Convolution2D object at 0x11e354b10>\n",
      "244 : convolution2d_76__activation__, <keras.layers.core.Activation object at 0x11521dc10>\n",
      "245 : batchnormalization_72, <keras.layers.normalization.BatchNormalization object at 0x11e3ae910>\n",
      "246 : batchnormalization_76, <keras.layers.normalization.BatchNormalization object at 0x11e3d2790>\n",
      "247 : averagepooling2d_8, <keras.layers.pooling.AveragePooling2D object at 0x11e3f8fd0>\n",
      "248 : mixed8, <keras.engine.topology.Merge object at 0x11e491850>\n",
      "249 : convolution2d_81, <keras.layers.convolutional.Convolution2D object at 0x11e4a3f90>\n",
      "250 : convolution2d_81__activation__, <keras.layers.core.Activation object at 0x11521dc90>\n",
      "251 : batchnormalization_81, <keras.layers.normalization.BatchNormalization object at 0x11e4d3910>\n",
      "252 : convolution2d_78, <keras.layers.convolutional.Convolution2D object at 0x11e4e7f10>\n",
      "253 : convolution2d_78__activation__, <keras.layers.core.Activation object at 0x11521dd10>\n",
      "254 : convolution2d_82, <keras.layers.convolutional.Convolution2D object at 0x11e51e550>\n",
      "255 : convolution2d_82__activation__, <keras.layers.core.Activation object at 0x11521dd90>\n",
      "256 : batchnormalization_78, <keras.layers.normalization.BatchNormalization object at 0x11e58b2d0>\n",
      "257 : batchnormalization_82, <keras.layers.normalization.BatchNormalization object at 0x11e5b1b50>\n",
      "258 : convolution2d_79, <keras.layers.convolutional.Convolution2D object at 0x11e5d0a10>\n",
      "259 : convolution2d_79__activation__, <keras.layers.core.Activation object at 0x11521de10>\n",
      "260 : convolution2d_80, <keras.layers.convolutional.Convolution2D object at 0x11e65b290>\n",
      "261 : convolution2d_80__activation__, <keras.layers.core.Activation object at 0x11521de90>\n",
      "262 : convolution2d_83, <keras.layers.convolutional.Convolution2D object at 0x11e6b2fd0>\n",
      "263 : convolution2d_83__activation__, <keras.layers.core.Activation object at 0x11521df10>\n",
      "264 : convolution2d_84, <keras.layers.convolutional.Convolution2D object at 0x11e6d9d90>\n",
      "265 : convolution2d_84__activation__, <keras.layers.core.Activation object at 0x11521df90>\n",
      "266 : averagepooling2d_9, <keras.layers.pooling.AveragePooling2D object at 0x11e6fbc10>\n",
      "267 : convolution2d_77, <keras.layers.convolutional.Convolution2D object at 0x11e723a50>\n",
      "268 : convolution2d_77__activation__, <keras.layers.core.Activation object at 0x1462c1050>\n",
      "269 : batchnormalization_79, <keras.layers.normalization.BatchNormalization object at 0x11e734ed0>\n",
      "270 : batchnormalization_80, <keras.layers.normalization.BatchNormalization object at 0x11e748e10>\n",
      "271 : batchnormalization_83, <keras.layers.normalization.BatchNormalization object at 0x11e77e1d0>\n",
      "272 : batchnormalization_84, <keras.layers.normalization.BatchNormalization object at 0x11e7edcd0>\n",
      "273 : convolution2d_85, <keras.layers.convolutional.Convolution2D object at 0x11e86d290>\n",
      "274 : convolution2d_85__activation__, <keras.layers.core.Activation object at 0x1462c10d0>\n",
      "275 : batchnormalization_77, <keras.layers.normalization.BatchNormalization object at 0x11e8f1cd0>\n",
      "276 : mixed9_0, <keras.engine.topology.Merge object at 0x11e949b10>\n",
      "277 : merge_1, <keras.engine.topology.Merge object at 0x11e982190>\n",
      "278 : batchnormalization_85, <keras.layers.normalization.BatchNormalization object at 0x11e996ed0>\n"
     ]
    },
    {
     "name": "stdout",
     "output_type": "stream",
     "text": [
      "279 : mixed9, <keras.engine.topology.Merge object at 0x11e9c6d50>\n",
      "280 : convolution2d_90, <keras.layers.convolutional.Convolution2D object at 0x11ea03310>\n",
      "281 : convolution2d_90__activation__, <keras.layers.core.Activation object at 0x1462c1150>\n",
      "282 : batchnormalization_90, <keras.layers.normalization.BatchNormalization object at 0x11ea19210>\n",
      "283 : convolution2d_87, <keras.layers.convolutional.Convolution2D object at 0x11ea71d90>\n",
      "284 : convolution2d_87__activation__, <keras.layers.core.Activation object at 0x1462c11d0>\n",
      "285 : convolution2d_91, <keras.layers.convolutional.Convolution2D object at 0x11eaabb90>\n",
      "286 : convolution2d_91__activation__, <keras.layers.core.Activation object at 0x1462c1250>\n",
      "287 : batchnormalization_87, <keras.layers.normalization.BatchNormalization object at 0x11eb05990>\n",
      "288 : batchnormalization_91, <keras.layers.normalization.BatchNormalization object at 0x11eb2b810>\n",
      "289 : convolution2d_88, <keras.layers.convolutional.Convolution2D object at 0x11eb4ff50>\n",
      "290 : convolution2d_88__activation__, <keras.layers.core.Activation object at 0x1462c12d0>\n",
      "291 : convolution2d_89, <keras.layers.convolutional.Convolution2D object at 0x11ebe68d0>\n",
      "292 : convolution2d_89__activation__, <keras.layers.core.Activation object at 0x1462c1350>\n",
      "293 : convolution2d_92, <keras.layers.convolutional.Convolution2D object at 0x11ec3e9d0>\n",
      "294 : convolution2d_92__activation__, <keras.layers.core.Activation object at 0x10b320690>\n",
      "295 : convolution2d_93, <keras.layers.convolutional.Convolution2D object at 0x11ec63ad0>\n",
      "296 : convolution2d_93__activation__, <keras.layers.core.Activation object at 0x1462c13d0>\n",
      "297 : averagepooling2d_10, <keras.layers.pooling.AveragePooling2D object at 0x11ec85390>\n",
      "298 : convolution2d_86, <keras.layers.convolutional.Convolution2D object at 0x11eca91d0>\n",
      "299 : convolution2d_86__activation__, <keras.layers.core.Activation object at 0x1462c1450>\n",
      "300 : batchnormalization_88, <keras.layers.normalization.BatchNormalization object at 0x11ecbb6d0>\n",
      "301 : batchnormalization_89, <keras.layers.normalization.BatchNormalization object at 0x11ecd0cd0>\n",
      "302 : batchnormalization_92, <keras.layers.normalization.BatchNormalization object at 0x11ecf3b90>\n",
      "303 : batchnormalization_93, <keras.layers.normalization.BatchNormalization object at 0x11ed77150>\n",
      "304 : convolution2d_94, <keras.layers.convolutional.Convolution2D object at 0x11ede2c50>\n",
      "305 : convolution2d_94__activation__, <keras.layers.core.Activation object at 0x1462c14d0>\n",
      "306 : batchnormalization_86, <keras.layers.normalization.BatchNormalization object at 0x11ee664d0>\n",
      "307 : mixed9_1, <keras.engine.topology.Merge object at 0x11eed3c90>\n",
      "308 : merge_2, <keras.engine.topology.Merge object at 0x11eef7b50>\n",
      "309 : batchnormalization_94, <keras.layers.normalization.BatchNormalization object at 0x11ef0f510>\n",
      "310 : mixed10, <keras.engine.topology.Merge object at 0x11ef3cb10>\n",
      "311 : averagepooling2d_11, <keras.layers.pooling.AveragePooling2D object at 0x11ef7b9d0>\n",
      "312 : flatten_1, <keras.layers.core.Flatten object at 0x11efd5a10>\n",
      "313 : dense_1, <keras.layers.core.Dense object at 0x11efe9510>\n",
      "314 : dense_1__activation__, <keras.layers.core.Activation object at 0x1462c1510>\n"
     ]
    }
   ],
   "source": [
    "coreml_model = coremltools.converters.keras.convert(model, \n",
    "                                                    input_names=['image'], \n",
    "                                                    output_names=['confidence'], \n",
    "                                                    class_labels='labels.txt',\n",
    "                                                   image_input_names='image', \n",
    "                                                    image_scale=2./255, \n",
    "                                                    red_bias=-1, \n",
    "                                                    green_bias=-1, \n",
    "                                                    blue_bias=-1)"
   ]
  },
  {
   "cell_type": "markdown",
   "metadata": {},
   "source": [
    "## Add metadata"
   ]
  },
  {
   "cell_type": "code",
   "execution_count": 5,
   "metadata": {
    "collapsed": true
   },
   "outputs": [],
   "source": [
    "coreml_model.author = 'Udacity'\n",
    "coreml_model.license = 'MIT'\n",
    "coreml_model.short_description = 'Classifies food from an image as one of 101 classes'\n",
    "coreml_model.input_description['image'] = 'Food image'\n",
    "coreml_model.output_description['confidence'] = 'Confidence of the food classification'\n",
    "coreml_model.output_description['classLabel'] = 'Food classification label'"
   ]
  },
  {
   "cell_type": "markdown",
   "metadata": {},
   "source": [
    "## Inspect Core ML model"
   ]
  },
  {
   "cell_type": "code",
   "execution_count": 6,
   "metadata": {
    "scrolled": true
   },
   "outputs": [
    {
     "data": {
      "text/plain": [
       "input {\n",
       "  name: \"image\"\n",
       "  shortDescription: \"Food image\"\n",
       "  type {\n",
       "    imageType {\n",
       "      width: 299\n",
       "      height: 299\n",
       "      colorSpace: RGB\n",
       "    }\n",
       "  }\n",
       "}\n",
       "output {\n",
       "  name: \"confidence\"\n",
       "  shortDescription: \"Confidence of the food classification\"\n",
       "  type {\n",
       "    dictionaryType {\n",
       "      stringKeyType {\n",
       "      }\n",
       "    }\n",
       "  }\n",
       "}\n",
       "output {\n",
       "  name: \"classLabel\"\n",
       "  shortDescription: \"Food classification label\"\n",
       "  type {\n",
       "    stringType {\n",
       "    }\n",
       "  }\n",
       "}\n",
       "predictedFeatureName: \"classLabel\"\n",
       "predictedProbabilitiesName: \"confidence\"\n",
       "metadata {\n",
       "  shortDescription: \"Classifies food from an image as one of 101 classes\"\n",
       "  author: \"Udacity\"\n",
       "  license: \"MIT\"\n",
       "}"
      ]
     },
     "execution_count": 6,
     "metadata": {},
     "output_type": "execute_result"
    }
   ],
   "source": [
    "coreml_model"
   ]
  },
  {
   "cell_type": "markdown",
   "metadata": {},
   "source": [
    "## Test Core ML Model Predictions"
   ]
  },
  {
   "cell_type": "code",
   "execution_count": 7,
   "metadata": {
    "collapsed": true
   },
   "outputs": [],
   "source": [
    "from PIL import Image"
   ]
  },
  {
   "cell_type": "code",
   "execution_count": 8,
   "metadata": {
    "collapsed": true
   },
   "outputs": [],
   "source": [
    "bibimbap = Image.open('bibimbap.jpg')"
   ]
  },
  {
   "cell_type": "code",
   "execution_count": 9,
   "metadata": {
    "collapsed": true
   },
   "outputs": [],
   "source": [
    "bibimbap.show()"
   ]
  },
  {
   "cell_type": "code",
   "execution_count": 10,
   "metadata": {},
   "outputs": [
    {
     "data": {
      "text/plain": [
       "{u'classLabel': u'bibimbap',\n",
       " u'confidence': {u'apple_pie': 6.411606136680348e-06,\n",
       "  u'baby_back_ribs': 1.9007397611403576e-07,\n",
       "  u'baklava': 6.982965032875654e-07,\n",
       "  u'beef_carpaccio': 4.48674518338521e-06,\n",
       "  u'beef_tartare': 0.013760291039943695,\n",
       "  u'beet_salad': 4.624263056030031e-06,\n",
       "  u'beignets': 6.485367975983536e-07,\n",
       "  u'bibimbap': 0.980607271194458,\n",
       "  u'bread_pudding': 4.4046614675608e-06,\n",
       "  u'breakfast_burrito': 2.538227183990216e-09,\n",
       "  u'bruschetta': 1.177120225293038e-06,\n",
       "  u'caesar_salad': 2.0071544781785633e-07,\n",
       "  u'cannoli': 1.2305112306876254e-07,\n",
       "  u'caprese_salad': 1.7964309506623977e-07,\n",
       "  u'carrot_cake': 2.857279241652577e-06,\n",
       "  u'ceviche': 4.1571220208425075e-06,\n",
       "  u'cheese_plate': 5.047463491791859e-05,\n",
       "  u'cheesecake': 3.4329343634453835e-07,\n",
       "  u'chicken_curry': 5.922272066527512e-06,\n",
       "  u'chicken_quesadilla': 2.4410649501760417e-08,\n",
       "  u'chicken_wings': 4.871037617704133e-07,\n",
       "  u'chocolate_cake': 4.253855422575725e-06,\n",
       "  u'chocolate_mousse': 5.9264450101181865e-05,\n",
       "  u'churros': 1.974442653818187e-07,\n",
       "  u'clam_chowder': 3.6968550443106096e-09,\n",
       "  u'club_sandwich': 2.8940382890141336e-06,\n",
       "  u'crab_cakes': 4.519650246948004e-06,\n",
       "  u'creme_brulee': 1.5726767514934181e-06,\n",
       "  u'croque_madame': 5.367521680454956e-07,\n",
       "  u'cup_cakes': 2.0031999156344682e-05,\n",
       "  u'deviled_eggs': 5.390621140577423e-07,\n",
       "  u'donuts': 3.6582102325155574e-07,\n",
       "  u'dumplings': 7.530580887760152e-07,\n",
       "  u'edamame': 1.5205236195470206e-05,\n",
       "  u'eggs_benedict': 1.6883198838968383e-07,\n",
       "  u'escargots': 3.9491018810622336e-07,\n",
       "  u'falafel': 4.337719872182788e-07,\n",
       "  u'filet_mignon': 8.298654847749276e-07,\n",
       "  u'fish_and_chips': 5.07406127780996e-07,\n",
       "  u'foie_gras': 3.1820975436858134e-06,\n",
       "  u'french_fries': 9.221276968673919e-07,\n",
       "  u'french_onion_soup': 2.8297087339979043e-08,\n",
       "  u'french_toast': 5.505905775748943e-08,\n",
       "  u'fried_calamari': 4.9266354835708626e-06,\n",
       "  u'fried_rice': 0.0009052858222275972,\n",
       "  u'frozen_yogurt': 4.426154191605747e-06,\n",
       "  u'garlic_bread': 1.9007623919264915e-08,\n",
       "  u'gnocchi': 6.054498953744769e-06,\n",
       "  u'greek_salad': 8.364048653675127e-08,\n",
       "  u'grilled_cheese_sandwich': 1.9101937809296032e-08,\n",
       "  u'grilled_salmon': 1.1646352504612878e-06,\n",
       "  u'guacamole': 4.972833878014171e-08,\n",
       "  u'gyoza': 3.204615239837949e-08,\n",
       "  u'hamburger': 4.268179964128649e-06,\n",
       "  u'hot_and_sour_soup': 4.808827611668676e-07,\n",
       "  u'hot_dog': 9.154962867796712e-07,\n",
       "  u'huevos_rancheros': 7.03277791558321e-08,\n",
       "  u'hummus': 2.6137493591704697e-07,\n",
       "  u'ice_cream': 3.419405629756511e-06,\n",
       "  u'lasagna': 7.188164090621285e-07,\n",
       "  u'lobster_bisque': 2.254308100191338e-07,\n",
       "  u'lobster_roll_sandwich': 1.2811983651772607e-07,\n",
       "  u'macaroni_and_cheese': 5.249752348390757e-07,\n",
       "  u'macarons': 3.708497388288379e-05,\n",
       "  u'miso_soup': 1.2402609854689217e-06,\n",
       "  u'mussels': 2.3927800612000283e-06,\n",
       "  u'nachos': 8.115721925605612e-07,\n",
       "  u'omelette': 4.678214793329971e-08,\n",
       "  u'onion_rings': 1.3657300712566212e-07,\n",
       "  u'oysters': 4.531004833552288e-06,\n",
       "  u'pad_thai': 1.7340367776341736e-05,\n",
       "  u'paella': 0.00032894706237129867,\n",
       "  u'pancakes': 1.2590480480412225e-07,\n",
       "  u'panna_cotta': 1.6181291357497685e-05,\n",
       "  u'peking_duck': 2.0189006590953795e-06,\n",
       "  u'pho': 1.5784624451953277e-07,\n",
       "  u'pizza': 6.08239290045276e-08,\n",
       "  u'pork_chop': 3.480050281723379e-06,\n",
       "  u'poutine': 9.65412073128391e-06,\n",
       "  u'prime_rib': 1.0854269021365326e-06,\n",
       "  u'pulled_pork_sandwich': 1.4599296264350414e-05,\n",
       "  u'ramen': 1.8717571947490796e-05,\n",
       "  u'ravioli': 4.0489911157237657e-07,\n",
       "  u'red_velvet_cake': 7.077690497681033e-06,\n",
       "  u'risotto': 0.000118320356705226,\n",
       "  u'samosa': 4.850867867389752e-07,\n",
       "  u'sashimi': 2.1035389181633946e-06,\n",
       "  u'scallops': 2.142272933269851e-05,\n",
       "  u'seaweed_salad': 1.8850221749744378e-05,\n",
       "  u'shrimp_and_grits': 5.61428862511093e-07,\n",
       "  u'spaghetti_bolognese': 0.0037129814736545086,\n",
       "  u'spaghetti_carbonara': 4.290226934244856e-05,\n",
       "  u'spring_rolls': 1.830147624559686e-07,\n",
       "  u'steak': 1.595640128471132e-06,\n",
       "  u'strawberry_shortcake': 6.430000667023705e-06,\n",
       "  u'sushi': 1.5559800203845953e-06,\n",
       "  u'tacos': 3.0107460702311073e-07,\n",
       "  u'takoyaki': 4.389002299376443e-07,\n",
       "  u'tiramisu': 2.468621914886171e-06,\n",
       "  u'tuna_tartare': 9.805875015445054e-05,\n",
       "  u'waffles': 7.677701887587318e-07}}"
      ]
     },
     "execution_count": 10,
     "metadata": {},
     "output_type": "execute_result"
    }
   ],
   "source": [
    "coreml_model.predict({'image' : bibimbap})"
   ]
  },
  {
   "cell_type": "markdown",
   "metadata": {},
   "source": [
    "## Save to .mlmodel"
   ]
  },
  {
   "cell_type": "code",
   "execution_count": 11,
   "metadata": {
    "collapsed": true
   },
   "outputs": [],
   "source": [
    "coreml_model.save('Food101Net.mlmodel')"
   ]
  },
  {
   "cell_type": "code",
   "execution_count": null,
   "metadata": {
    "collapsed": true
   },
   "outputs": [],
   "source": []
  }
 ],
 "metadata": {
  "kernelspec": {
   "display_name": "Python 2",
   "language": "python",
   "name": "python2"
  },
  "language_info": {
   "codemirror_mode": {
    "name": "ipython",
    "version": 2
   },
   "file_extension": ".py",
   "mimetype": "text/x-python",
   "name": "python",
   "nbconvert_exporter": "python",
   "pygments_lexer": "ipython2",
   "version": "2.7.13"
  }
 },
 "nbformat": 4,
 "nbformat_minor": 2
}
